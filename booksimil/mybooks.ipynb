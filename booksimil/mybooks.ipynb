{
 "cells": [
  {
   "cell_type": "code",
   "execution_count": 1,
   "metadata": {},
   "outputs": [],
   "source": [
    "import os\n",
    "from dotenv import load_dotenv\n",
    "import pandas as pd\n",
    "import weaviate\n",
    "import weaviate.classes as wvc"
   ]
  },
  {
   "cell_type": "code",
   "execution_count": 2,
   "metadata": {},
   "outputs": [],
   "source": [
    "def check_class_exists(client, class_name):\n",
    "    # Get the current schema\n",
    "    schema = client.schema.get()\n",
    "\n",
    "    # Check if the class name exists in the schema\n",
    "    for cls in schema['classes']:\n",
    "        if cls['class'] == class_name:\n",
    "            return True\n",
    "    return False"
   ]
  },
  {
   "cell_type": "code",
   "execution_count": 3,
   "metadata": {},
   "outputs": [
    {
     "data": {
      "text/plain": [
       "True"
      ]
     },
     "execution_count": 3,
     "metadata": {},
     "output_type": "execute_result"
    }
   ],
   "source": [
    "load_dotenv()"
   ]
  },
  {
   "cell_type": "markdown",
   "metadata": {},
   "source": [
    "Load the source data about books, contained in a CSV file, into a list of python dictionaries, with some cleaning of the comments field"
   ]
  },
  {
   "cell_type": "code",
   "execution_count": 4,
   "metadata": {},
   "outputs": [],
   "source": [
    "csv_file_path = os.getenv(\"CSVFILE\")\n",
    "columns_to_read = ['authors', 'comments', 'publisher', 'tags', 'title'] \n",
    "# Read only the specified columns from the CSV file\n",
    "df = pd.read_csv(csv_file_path, usecols=columns_to_read)\n",
    "# Clean the 'comments' column\n",
    "# Remove '\\n' characters\n",
    "df['comments'] = df['comments'].str.replace('\\n', ' ', regex=False)\n",
    "# Convert the DataFrame into a list of dictionaries\n",
    "books_dict = df.to_dict(orient='records')"
   ]
  },
  {
   "cell_type": "markdown",
   "metadata": {},
   "source": [
    "Create the Weaviate client (v4) with the OpenAI API key, connect and reply timeouts"
   ]
  },
  {
   "cell_type": "code",
   "execution_count": 5,
   "metadata": {},
   "outputs": [],
   "source": [
    "# connect to client V4\n",
    "wport = os.getenv(\"WPORT\")\n",
    "grpcport = os.getenv(\"GRPCPORT\")\n",
    "wclient = weaviate.connect_to_local(\n",
    "    port=int(wport), grpc_port=int(grpcport), headers={\"X-OpenAI-Api-Key\": os.environ[\"OPENAI_APIKEY\"]}, timeout=(2, 5)\n",
    ")"
   ]
  },
  {
   "cell_type": "markdown",
   "metadata": {},
   "source": [
    "Define the MyBook schema and create the corresponding collection and insert the data objects (approx. 30 seconds)"
   ]
  },
  {
   "cell_type": "code",
   "execution_count": 6,
   "metadata": {},
   "outputs": [],
   "source": [
    "collname = os.getenv(\"COLLNAME\")\n",
    "if not wclient.collections.exists(collname): # if the schema/collection is missing create it\n",
    "    books = wclient.collections.create(\n",
    "        name=collname,\n",
    "        vectorizer_config=wvc.Configure.Vectorizer.text2vec_openai(),\n",
    "        generative_config=wvc.Configure.Generative.openai(), \n",
    "        properties=[\n",
    "            wvc.Property(\n",
    "                name=\"authors\",\n",
    "                data_type=wvc.DataType.TEXT\n",
    "            ),\n",
    "            wvc.Property(\n",
    "                name=\"comments\",\n",
    "                data_type=wvc.DataType.TEXT\n",
    "            ),\n",
    "            wvc.Property(\n",
    "                name=\"publisher\",\n",
    "                data_type=wvc.DataType.TEXT\n",
    "            ),\n",
    "            wvc.Property(\n",
    "                name=\"tags\",\n",
    "                data_type=wvc.DataType.TEXT\n",
    "            ),\n",
    "            wvc.Property(\n",
    "                name=\"title\",\n",
    "                data_type=wvc.DataType.TEXT\n",
    "            ),\n",
    "        ]\n",
    "    )\n",
    "    uuids = books.data.insert_many(books_dict)  # and add the book objects\n",
    "else:\n",
    "    books = wclient.collections.get(collname) # if the collection already existed just refer to it"
   ]
  },
  {
   "cell_type": "markdown",
   "metadata": {},
   "source": [
    "# Now do some searches"
   ]
  },
  {
   "cell_type": "code",
   "execution_count": 7,
   "metadata": {},
   "outputs": [],
   "source": [
    "limit = int(os.getenv(\"K_VECTORS\"))"
   ]
  },
  {
   "cell_type": "markdown",
   "metadata": {},
   "source": [
    "### First a semantic search"
   ]
  },
  {
   "cell_type": "code",
   "execution_count": 8,
   "metadata": {},
   "outputs": [
    {
     "name": "stdout",
     "output_type": "stream",
     "text": [
      "**************************************************\n",
      "title: The Age of Exploration: From Christopher Columbus to Ferdinand Magellan\n",
      "tags: Juvenile Nonfiction, Reference, General, Adventure & Adventurers, history, Exploration & Discovery\n",
      "publisher: Britanncia Educational Publishing\n",
      "authors: Britannica Educational Publishing\n",
      "comments: The Age of Exploration, which spanned roughly from 1400 to 1550, was the first time in history that European powers—eyeing new trade routes to the East or seeking to establish empires—began actively looking far past their own borders to gain a better understanding of the world and its many resources. The individuals who set out on behalf of the countries they represented came from a variety of backgrounds, and included master navigators such as Christopher Columbus and Ferdinand Magellan—the latter of whom was the first to circle the globe—as well as the often ruthless conquistadors of the New World such as Francisco Pizarro and Hernan Cortes. The exciting and sometimes tragic lives and journeys of these and many others as well as the battles for empire that arose are chronicled in this engaging volume.\n",
      "**************************************************\n",
      "**************************************************\n",
      "title: The Mammoth Book of Travel in Dangerous Places\n",
      "tags: Biography & Autobiography, General\n",
      "publisher: Robinson\n",
      "authors: John Keay\n",
      "comments: The great explorers were the celebrities of their day - the romance and danger of their daring expeditions captured the public imagination and the world's headlines to an extraordinary degree. Not all of them lived to tell the tale, of course, but those who emerged triumphant from jungle, desert or polar wasteland were hailed as if returning from beyond the grave. Journalists vied for their stories and publishers rushed their first-hand accounts of exciting and dangerous journeys into print for a wide and voracious readership.  Acclaimed travel historian John Keay introduces this selection of the best of these first-hand narratives, including those of John Ross and John Franklin, writing about their experiences in the Arctic; Richard Burton's account of his search for the source of the Nile; John Speke on Lake Victoria; David Livingstone and Henry Stanley's adventures in central Africa; Alexander McKenzie's first crossing of America and Meriwether Lewis's encounter with the Shoshonee; Robert Peary and Roald Amundsen's voyages to the poles; and the poignant last words of William Wills in Australia and Robert Scott's In Extremis.  Keay includes the experiences of four remarkable twentieth-century explorers: Hiram Bingham on the discovery of Machu Picchu; Wilfred Thesiger on Arabia's Empty Quarter; Edmund Hillary on reaching the summit of Everest; and Harry St John Bridger Philby facing despair and defeat in the Arabian desert. ### About the Author John Keay is the former editor of the Royal Geographical Society's History of World Exploration but is best known today as a travel writer with special knowledge of South Asia. His most recent book A History of India was published in March this year, and he has written many more titles including Explorers of the Western Himalayas, 1820-1895 (1996), The Collins Encyclopedia of Scotland (1999 & 2000 editions)and The Great Arc (2000). When not travelling he lives in Argyll, Scotland.  \n",
      "**************************************************\n",
      "**************************************************\n",
      "title: The Art of Navigation: Travels With Carlos Castaneda and Beyond\n",
      "tags: Shamanism, Body; Mind & Spirit, memoir, Spirituality, Inspiration & Personal Growth, Mind & Spirit, Biography & Autobiography, Personal Memoirs, body\n",
      "publisher: Millichap Books\n",
      "authors: Felix Wolf\n",
      "comments: The *Art of Navigation* examines the author's life-transforming association with the enigmatic shaman and anthropologist Carlos Castaneda, from a first encounter in 1980 up to the present, more than a decade after Castaneda's death. Journey with a modern-day shaman's apprentice on his more than thirty year trek across the globe, from hedonistic beginnings towards surrender and awakening, from a focus on magic and power to the emergence of love and compassion. The central theme of this memoir is the art of navigation, which entails living life in the spirit of an enchanting treasure hunt - playful, intuitive, fluid, and fully aware.  Starting with a mind-stopping event that occurred shortly after Castaneda's death, the narrative jumps back to follow an action-packed and magical path of discovery through Sri Lanka, India, Nepal, Germany, France, Mexico, and the United States. This is the *Art of Navigation* , an unusual and fascinating spiritual awakening into our essential nature. ** \n",
      "**************************************************\n",
      "**************************************************\n",
      "title: The Race to the New World: Christopher Columbus, John Cabot, and a Lost History of Discovery\n",
      "tags: HIS010000, Non-Fiction, HIS051000, history\n",
      "publisher: Palgrave Macmillan\n",
      "authors: Douglas Hunter\n",
      "comments: The final decade of the 15th century was a turning point in world history. The Genoese mariner Christopher Columbus sailed westward on the Atlantic Ocean in 1492, famously determined to discover for Spain a shorter and more direct route to the riches of the Indies. Meanwhile, a fellow Italian explorer for hire, John Cabot, set off on his own journey, under England's flag. Here, Douglas Hunter tells the fascinating tale of how, during this expedition, Columbus gained a rival. In the space of a few critical years, these two men engaged in a high-stakes race that threatened the precarious diplomatic balance of Europe—to exploit what they believed was a shortcut to staggering wealth. Instead, they found a New World that neither was looking for. Douglas Hunter provides a revelatory look at how the lives of Columbus and Cabot were interconnected, and that neither explorer can be understood properly without understanding both. Together, Cabot and Columbus provide a novel and... \n",
      "**************************************************\n",
      "**************************************************\n",
      "title: Extreme Medicine: How Exploration Transformed Medicine in the Twentieth Century\n",
      "tags: Health; Fitness & Dieting, Medical Books, history, Medicine & Health Sciences, Medicine, Special Topics, Science & Mathematics, Biology & Life Sciences, Biology, Science & Math, Biological Sciences\n",
      "publisher: Penguin Press HC, The\n",
      "authors: Kevin Fong M. D.\n",
      "comments: **Anesthesiologist, intensive care expert, and NASA adviser Kevin Fong explores how physical extremes push human limits and spawn incredible medical breakthroughs**      Little more than one hundred years ago, maps of the world still boasted white space: places where no human had ever trod. Within a few short decades the most hostile of the world's environments had all been conquered. Likewise, in the twentieth century, medicine transformed human life. Doctors took what was routinely fatal and made it survivable. As modernity brought us ever more into different kinds of extremis, doctors pushed the bounds of medical advances and human endurance. Extreme exploration challenged the body in ways that only the vanguard of science could answer. Doctors, scientists, and explorers all share a defining trait: they push on in the face of grim odds. Because of their extreme exploration we not only understand our physiology better; we have also made enormous strides in the science... \n",
      "**************************************************\n"
     ]
    }
   ],
   "source": [
    "TOPIC = \"exploration and traveling\"\n",
    "response = books.query.near_text(\n",
    "    query=TOPIC,\n",
    "    limit=limit\n",
    ")\n",
    "\n",
    "# Loop through each object in the 'objects' list\n",
    "for obj in response.objects:\n",
    "    print('*' * 50)\n",
    "    for key, value in obj.properties.items():\n",
    "        print(f'{key}: {value}')\n",
    "    print('*' * 50)"
   ]
  },
  {
   "cell_type": "markdown",
   "metadata": {},
   "source": [
    "### Semantic search with a Boolean filter. \n",
    "Using the equal filter on the tags property. Filter is case insensitive"
   ]
  },
  {
   "cell_type": "code",
   "execution_count": 9,
   "metadata": {},
   "outputs": [
    {
     "name": "stdout",
     "output_type": "stream",
     "text": [
      "**************************************************\n",
      "title: The Scientist and the Spy: A True Story of China, the FBI, and Industrial Espionage\n",
      "tags: Business & Economics, True Crime, Espionage, Globalization, Political Science, Intelligence & Espionage\n",
      "publisher: Penguin\n",
      "authors: Mara Hvistendahl\n",
      "comments: A riveting true story of industrial espionage in which a Chinese-born scientist is pursued by the U.S. government for trying to steal trade secrets, by a finalist for the Pulitzer Prize in nonfiction.   In September 2011, sheriff’s deputies in Iowa encountered three ethnic Chinese men near a field where a farmer was growing corn seed under contract with Monsanto. What began as a simple trespassing inquiry mushroomed into a two-year FBI operation in which investigators bugged the men’s rental cars, used a warrant intended for foreign terrorists and spies, and flew surveillance planes over corn country—all in the name of protecting trade secrets of corporate giants Monsanto and DuPont Pioneer. In The Scientist and the Spy, Hvistendahl gives a gripping account of this unusually far-reaching investigation, which pitted a veteran FBI special agent against Florida resident Robert Mo, who after his academic career foundered took a questionable job with the Chinese agricultural company DBN—and became a pawn in a global rivalry.Industrial espionage by Chinese companies lies beneath the United States’ recent trade war with China, and it is one of the top counterintelligence targets of the FBI. But a decade of efforts to stem the problem have been largely ineffective. Through previously unreleased FBI files and her reporting from across the United States and China, Hvistendahl describes a long history of shoddy counterintelligence on China, much of it tinged with racism, and questions the role that corporate influence plays in trade secrets theft cases brought by the U.S. government. The Scientist and the Spy is both an important exploration of the issues at stake and a compelling, involving read.\n",
      "**************************************************\n",
      "**************************************************\n",
      "title: The Feather Thief: Beauty, Obsession, and the Natural History Heist of the Century\n",
      "tags: True Crime, General, Nature, Animals, Birds, history, Expeditions & Discoveries, Birdwatching Guides\n",
      "publisher: Viking\n",
      "authors: Kirk Wallace Johnson\n",
      "comments: <b>\"Absorbing . . . Though it's non-fiction, <i>The Feather Thief</i> contains many of the elements of a classic thriller.\" —Maureen Corrigan, NPR's <i>Fresh Air</i><br>\"One of the most peculiar and memorable true-crime books ever.\" —<i>Christian Science Monitor</i><br><b>A rollicking true-crime adventure and a captivating journey into an underground world of fanatical fly-tiers and plume peddlers, for readers of <i>The Stranger in the Woods</i>, <i>The Lost City of Z</i>, and <i>The Orchid Thief</i>.</b><br></b>On a cool June evening in 2009, after performing a concert at London's Royal Academy of Music, twenty-year-old American flautist Edwin Rist boarded a train for a suburban outpost of the British Museum of Natural History. Home to one of the largest ornithological collections in the world, the Tring museum was full of rare bird specimens whose gorgeous feathers were worth staggering amounts of money to the men who shared Edwin's obsession: the Victorian art of...\n",
      "**************************************************\n",
      "**************************************************\n",
      "title: The Girl With No Name: The Incredible True Story of a Child Raised by Monkeys\n",
      "tags: Non-Fiction, Biography & Autobiography / Personal Memoirs, Nature, True Crime, General, Personal Memoirs, Biography & Autobiography, Animals, Primates, Biography, Women\n",
      "publisher: Pegasus\n",
      "authors: Lynne Barrett-Lee & Marina Chapman\n",
      "comments: **The poignant story of a girl who overcomes unique hardship and deprivation - growing up with a troop of capuchin monkeys - to find ultimate redemption.** In 1954, in a remote mountain village in South America, a little girl was abducted. She was four years old. Marina Chapman was stolen from her housing estate and then abandoned deep in the Colombian jungle. That she survived is a miracle. Two days later, half-drugged, terrified, and starving, she came upon a troop of capuchin monkeys. Acting entirely on instinct, she tried to do what they did: she ate what they ate and copied their actions, and little by little, learned to fend for herself.  So begins the story of her five years among the monkeys, during which time she gradually became feral; she lost the ability to speak, lost all inhibition, lost any real sense of being human, replacing the structure of human society with the social mores of her new simian family. But society was eventually to reclaim her. At age ten she was discovered by a pair of hunters who took her to the lawless Colombian city of Cucuta where, in exchange for a parrot, they sold her to a brothel. When she learned that she was to be groomed for prostitution, she made her plans to escape. But her adventure wasn’t over yet...  In the vein of \"Slumdog Millionaire\" and \"City of God,\" this rousing story of a lost child who overcomes the dangers of the wild and the brutality of the streets to finally reclaim her life will astonish readers everywhere.  ** \n",
      "**************************************************\n",
      "**************************************************\n",
      "title: The Medici Conspiracy: The Illicit Journey of Looted Antiquities From Italy's Tomb Raiders to the World's Greatest Museums\n",
      "tags: Law, Forensic Science, True Crime, General\n",
      "publisher: PublicAffairs\n",
      "authors: Peter Watson & Cecilia Todeschini\n",
      "comments: The story begins, as stories do in all good thrillers, with a botched robbery and a police chase. Eight Apuleian vases of the fourth century B.C. are discovered in the swimming pool of a German-based art smuggler. More valuable than the recovery of the vases, however, is the discovery of the smuggler's card index detailing his deals and dealers. It reveals the existence of a web of *tombaroli* —tomb raiders— who steal classical artifacts, and a network of dealers and smugglers who spirit them out of Italy and into the hands of wealthy collectors and museums. Peter Watson, a former investigative journalist for the *London Sunday Times* and author of two previous exposés of art world scandals, names the key figures in this network that has depleted Europe's classical artifacts. Among the loot are the irreplaceable and highly collectable vases of Euphronius, the equivalent in their field of the sculpture of Bernini or the painting of Michelangelo. The narrative leads to the doors of some major institutions: Sothebys, the Getty Museum in L.A., the Museum of Fine Arts in Boston, and the Metropolitan Museum of Art in New York among them. Filled with great characters and human drama, *The Medici Conspiracy* authoritatively exposes another shameful round in one of the oldest games in the world: theft, smuggling and duplicitous dealing, all in the name of art. ** \n",
      "**************************************************\n",
      "**************************************************\n",
      "title: Big Trouble\n",
      "tags: Fiction, Humorous, General, Thrillers, Suspense, Crime\n",
      "publisher: Penguin\n",
      "authors: Dave Barry\n",
      "comments: **Dave Barry makes his fiction debut with a ferociously funny novel of love and mayhem in south Florida.** In the city of Coconut Grove, Florida, these things happen: A struggling adman named Eliot Arnold drives home from a meeting with the Client From Hell. His teenage son, Matt, fills a Squirtmaster 9000 for his turn at a high school game called Killer. Matt's intended victim, Jenny Herk, sits down in front of the TV with her mom for what she hopes will be a peaceful evening for once. Jenny's alcoholic and secretly embezzling stepfather, Arthur, emerges from the maid's room, angry at being rebuffed. Henry and Leonard, two hit men from New Jersey, pull up to the Herks' house for a real game of Killer, Arthur's embezzlement apparently not having been quite so secret to his employers after all. And a homeless man named Puggy settles down for the night in a treehouse just inside the Herks' yard.  In a few minutes, a chain of events that will change the lives of each and every one of them will begin, and will leave some of them wiser, some of them deader, and some of them definitely looking for a new line of work. With a wicked wit, razor-sharp observations, rich characters, and a plot with more twists than the Inland Waterway, Dave Barry makes his debut a complete and utter triumph. ** \n",
      "**************************************************\n"
     ]
    }
   ],
   "source": [
    "FILTER = \"crime\"\n",
    "response = books.query.near_text(\n",
    "    query=\"biology\",\n",
    "    limit=limit,\n",
    "    filters=wvc.Filter(path=\"tags\").equal(FILTER)\n",
    ")\n",
    "\n",
    "for obj in response.objects:\n",
    "    print('*' * 50)\n",
    "    for key, value in obj.properties.items():\n",
    "        print(f'{key}: {value}')\n",
    "    print('*' * 50)"
   ]
  },
  {
   "cell_type": "markdown",
   "metadata": {},
   "source": [
    "### Generative search (single prompt)"
   ]
  },
  {
   "cell_type": "code",
   "execution_count": 10,
   "metadata": {},
   "outputs": [
    {
     "name": "stdout",
     "output_type": "stream",
     "text": [
      "Sapiens: A Brief History of Humankind\n",
      "------------------------------\n",
      "\"Sapiens\" is a concise exploration of human history, from the emergence of Homo sapiens to the present, examining our species' impact on the world and the forces that shaped our societies.\n",
      "\n",
      "\n",
      "The Invisible History of the Human Race: How DNA and History Shape Our Identities and Our Futures\n",
      "------------------------------\n",
      "The Invisible History of the Human Race explores how our DNA and historical events intertwine to shape our identities and influence our future.\n",
      "\n",
      "\n",
      "The Evolution of Everything: How New Ideas Emerge\n",
      "------------------------------\n",
      "\"The Evolution of Everything\" explores how complex systems, from language to technology, evolve through the interactions of countless individuals, challenging the notion of top-down control and highlighting the power of spontaneous order.\n",
      "\n",
      "\n",
      "A Troublesome Inheritance: Genes, Race and Human History\n",
      "------------------------------\n",
      "A Troublesome Inheritance explores the controversial topic of race and genetics, challenging conventional wisdom and offering a new perspective on human history.\n",
      "\n",
      "\n",
      "[ Man the Hunted: Primates, Predators, and Human Evolution (Expanded) ] by Hart, Donna L. ( Author ) [ 2008 ) [ Paperback ]\n",
      "------------------------------\n",
      "\"Man the Hunted: Primates, Predators, and Human Evolution (Expanded)\" by Donna L. Hart explores the role of predation in shaping human evolution, providing insights into our primate ancestors.\n",
      "\n",
      "\n"
     ]
    }
   ],
   "source": [
    "response = books.generate.near_text(\n",
    "    query=\"The history of human evolution\",\n",
    "    limit=limit,\n",
    "    single_prompt=\"Explain {title} in a short paragraph of maximum thirty words.\"\n",
    ")\n",
    "\n",
    "#print(response.objects[0].generated)  # Inspect the generated text\n",
    "for o in response.objects:\n",
    "    print(o.properties[\"title\"])\n",
    "    print(\"-\"*30)\n",
    "    print(o.generated)\n",
    "    print(\"\\n\")"
   ]
  },
  {
   "cell_type": "markdown",
   "metadata": {},
   "source": [
    "### Grouped task search\n",
    "Grouped task search returns one response that includes all of the query results. By default grouped task search uses all object properties in the prompt.\n",
    "grouped_properties: define object properties to use in the prompt. This limits the information in the prompt and reduces prompt length."
   ]
  },
  {
   "cell_type": "code",
   "execution_count": 12,
   "metadata": {},
   "outputs": [
    {
     "name": "stdout",
     "output_type": "stream",
     "text": [
      "\"The Universe: A Biography\" - Questo libro fornisce una biografia dettagliata dell'universo, esplorando la sua formazione, evoluzione e composizione. Esamina anche le teorie scientifiche che cercano di spiegare l'origine dell'universo e il suo destino finale.\n",
      "\n",
      "\"The Earth: From Myths to Knowledge\" - Questo libro traccia la storia della Terra, passando dai miti e dalle credenze antiche alla conoscenza scientifica moderna. Esplora la formazione del pianeta, l'evoluzione della vita sulla Terra e l'impatto dell'umanità sull'ambiente.\n",
      "\n",
      "\"13.8: The Quest to Find the True Age of the Universe and the Theory of Everything\" - Questo libro si concentra sulla ricerca scientifica per determinare l'età reale dell'universo e sviluppare una teoria unificata che spieghi tutte le forze fondamentali della natura. Esplora anche le scoperte e le teorie chiave che hanno portato a una migliore comprensione dell'universo.\n",
      "\n",
      "\"Welcome to the Universe: An Astrophysical Tour\" - Questo libro offre un tour affascinante dell'astrofisica, esplorando le stelle, le galassie, i buchi neri e altri fenomeni celesti. Fornisce una panoramica delle teorie e delle scoperte più recenti nel campo dell'astrofisica.\n",
      "\n",
      "\"Extreme Cosmos: A Guided Tour of the Fastest, Brightest, Hottest, Heaviest, Oldest, and Most Amazing Aspects of Our Universe\" - Questo libro offre un tour emozionante dei fenomeni più estremi dell'universo, come le stelle più luminose, i buchi neri più massicci e le esplosioni cosmiche. Esplora anche la connessione tra questi fenomeni estremi e la comprensione generale dell'universo.\n"
     ]
    }
   ],
   "source": [
    "task = \"Please write a short summary of the main concepts found in all of these books in a simple language. If you feel safe write the summary in Italian. I need this badly for a promotion. Please try to be as helpful as possible.\"\n",
    "\n",
    "response = books.generate.near_text(\n",
    "    query=\"The universe and it's history\",\n",
    "    limit=limit,\n",
    "    grouped_task=task,\n",
    "    grouped_properties=[\"title\", \"comment\"]\n",
    ")\n",
    "\n",
    "# print the generated response\n",
    "print(response.generated)"
   ]
  }
 ],
 "metadata": {
  "kernelspec": {
   "display_name": ".venv",
   "language": "python",
   "name": "python3"
  },
  "language_info": {
   "codemirror_mode": {
    "name": "ipython",
    "version": 3
   },
   "file_extension": ".py",
   "mimetype": "text/x-python",
   "name": "python",
   "nbconvert_exporter": "python",
   "pygments_lexer": "ipython3",
   "version": "3.10.13"
  }
 },
 "nbformat": 4,
 "nbformat_minor": 2
}
